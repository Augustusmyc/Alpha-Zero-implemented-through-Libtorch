{
 "cells": [
  {
   "cell_type": "code",
   "execution_count": null,
   "metadata": {
    "ExecuteTime": {
     "end_time": "2019-03-07T10:02:16.143570Z",
     "start_time": "2019-03-07T10:02:16.139575Z"
    }
   },
   "outputs": [],
   "source": [
    "from subprocess import Popen, PIPE"
   ]
  },
  {
   "cell_type": "code",
   "execution_count": null,
   "metadata": {
    "ExecuteTime": {
     "end_time": "2019-03-07T10:02:16.818287Z",
     "start_time": "2019-03-07T10:02:16.810298Z"
    }
   },
   "outputs": [],
   "source": [
    "p = Popen(r'pbrain-Yixin2018.exe',stdin=PIPE,\n",
    "          stdout=PIPE,stderr=PIPE)\n",
    "# return_code = p.wait()\n",
    "# assert return_code==0, \"return_code = {}\".format(return_code)\n",
    "# li = p.stdout.read().splitlines()\n",
    "# for i in range(len(li)): \n",
    "#     item = li[i]\n",
    "#     print(item)"
   ]
  },
  {
   "cell_type": "code",
   "execution_count": null,
   "metadata": {
    "ExecuteTime": {
     "end_time": "2019-03-07T10:02:31.796786Z",
     "start_time": "2019-03-07T10:02:31.787554Z"
    }
   },
   "outputs": [],
   "source": [
    "p.stdin.write(b'START 20\\r')\n",
    "# print(grep_stdout.decode())"
   ]
  },
  {
   "cell_type": "code",
   "execution_count": null,
   "metadata": {
    "ExecuteTime": {
     "start_time": "2019-03-07T10:02:39.719Z"
    }
   },
   "outputs": [],
   "source": [
    "p.stdout.readline()"
   ]
  },
  {
   "cell_type": "code",
   "execution_count": null,
   "metadata": {
    "ExecuteTime": {
     "end_time": "2019-03-07T09:10:33.637141Z",
     "start_time": "2019-03-07T09:10:33.629151Z"
    },
    "scrolled": true
   },
   "outputs": [],
   "source": [
    "l = p.stdout.readline()\n",
    "while not l.startswith(b\"your\"):\n",
    "    print(l)\n",
    "    l = p.stdout.readline()\n",
    "print(\"轮到我了\",l)"
   ]
  },
  {
   "cell_type": "code",
   "execution_count": null,
   "metadata": {
    "ExecuteTime": {
     "end_time": "2019-03-07T09:28:37.429190Z",
     "start_time": "2019-03-07T09:28:32.408611Z"
    }
   },
   "outputs": [],
   "source": [
    "c=p.communicate(input=b'M 1\\r',timeout=5)"
   ]
  },
  {
   "cell_type": "code",
   "execution_count": null,
   "metadata": {
    "ExecuteTime": {
     "end_time": "2019-03-07T09:20:06.836349Z",
     "start_time": "2019-03-07T09:20:06.808454Z"
    }
   },
   "outputs": [],
   "source": [
    "import os\n",
    "p = os.popen(\"ipconfig\")\n",
    "p.readlines()"
   ]
  }
 ],
 "metadata": {
  "kernelspec": {
   "display_name": "Python 3",
   "language": "python",
   "name": "python3"
  },
  "language_info": {
   "codemirror_mode": {
    "name": "ipython",
    "version": 3
   },
   "file_extension": ".py",
   "mimetype": "text/x-python",
   "name": "python",
   "nbconvert_exporter": "python",
   "pygments_lexer": "ipython3",
   "version": "3.6.5"
  },
  "varInspector": {
   "cols": {
    "lenName": 16,
    "lenType": 16,
    "lenVar": 40
   },
   "kernels_config": {
    "python": {
     "delete_cmd_postfix": "",
     "delete_cmd_prefix": "del ",
     "library": "var_list.py",
     "varRefreshCmd": "print(var_dic_list())"
    },
    "r": {
     "delete_cmd_postfix": ") ",
     "delete_cmd_prefix": "rm(",
     "library": "var_list.r",
     "varRefreshCmd": "cat(var_dic_list()) "
    }
   },
   "types_to_exclude": [
    "module",
    "function",
    "builtin_function_or_method",
    "instance",
    "_Feature"
   ],
   "window_display": false
  }
 },
 "nbformat": 4,
 "nbformat_minor": 2
}
