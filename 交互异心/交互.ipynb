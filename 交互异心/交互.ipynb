{
 "cells": [
  {
   "cell_type": "code",
   "execution_count": null,
   "metadata": {
    "ExecuteTime": {
     "end_time": "2019-03-07T10:13:40.894209Z",
     "start_time": "2019-03-07T10:13:40.890215Z"
    }
   },
   "outputs": [],
   "source": [
    "from subprocess import Popen, PIPE"
   ]
  },
  {
   "cell_type": "code",
   "execution_count": 2,
   "metadata": {
    "ExecuteTime": {
     "end_time": "2019-03-07T10:13:41.237782Z",
     "start_time": "2019-03-07T10:13:41.229781Z"
    }
   },
   "outputs": [],
   "source": [
    "p = Popen(r'pbrain-Yixin2018.exe',stdin=PIPE,\n",
    "          stdout=PIPE,stderr=PIPE)\n",
    "# return_code = p.wait()\n",
    "# assert return_code==0, \"return_code = {}\".format(return_code)\n",
    "# li = p.stdout.read().splitlines()\n",
    "# for i in range(len(li)): \n",
    "#     item = li[i]\n",
    "#     print(item)"
   ]
  },
  {
   "cell_type": "code",
   "execution_count": 3,
   "metadata": {
    "ExecuteTime": {
     "end_time": "2019-03-07T10:13:42.958566Z",
     "start_time": "2019-03-07T10:13:42.954571Z"
    }
   },
   "outputs": [],
   "source": [
    "p.stdin.write(b'START 20\\r')\n",
    "p.stdin.flush()\n",
    "# print(grep_stdout.decode())\n",
    "# p.communicate(b'START 20')"
   ]
  },
  {
   "cell_type": "code",
   "execution_count": 5,
   "metadata": {
    "ExecuteTime": {
     "end_time": "2019-03-07T10:13:59.886123Z",
     "start_time": "2019-03-07T10:13:59.882128Z"
    }
   },
   "outputs": [
    {
     "data": {
      "text/plain": [
       "<function BufferedReader.read(size=-1, /)>"
      ]
     },
     "execution_count": 5,
     "metadata": {},
     "output_type": "execute_result"
    }
   ],
   "source": [
    "p.stdout.read"
   ]
  },
  {
   "cell_type": "code",
   "execution_count": null,
   "metadata": {
    "ExecuteTime": {
     "end_time": "2019-03-07T09:10:33.637141Z",
     "start_time": "2019-03-07T09:10:33.629151Z"
    },
    "scrolled": true
   },
   "outputs": [],
   "source": [
    "l = p.stdout.readline()\n",
    "while not l.startswith(b\"your\"):\n",
    "    print(l)\n",
    "    l = p.stdout.readline()\n",
    "print(\"轮到我了\",l)"
   ]
  },
  {
   "cell_type": "code",
   "execution_count": null,
   "metadata": {
    "ExecuteTime": {
     "end_time": "2019-03-07T09:28:37.429190Z",
     "start_time": "2019-03-07T09:28:32.408611Z"
    }
   },
   "outputs": [],
   "source": [
    "c=p.communicate(input=b'M 1\\r',timeout=5)"
   ]
  },
  {
   "cell_type": "code",
   "execution_count": null,
   "metadata": {
    "ExecuteTime": {
     "end_time": "2019-03-07T09:20:06.836349Z",
     "start_time": "2019-03-07T09:20:06.808454Z"
    }
   },
   "outputs": [],
   "source": [
    "import os\n",
    "p = os.popen(\"ipconfig\")\n",
    "p.readlines()"
   ]
  }
 ],
 "metadata": {
  "kernelspec": {
   "display_name": "Python 3",
   "language": "python",
   "name": "python3"
  },
  "language_info": {
   "codemirror_mode": {
    "name": "ipython",
    "version": 3
   },
   "file_extension": ".py",
   "mimetype": "text/x-python",
   "name": "python",
   "nbconvert_exporter": "python",
   "pygments_lexer": "ipython3",
   "version": "3.7.4"
  },
  "toc": {
   "base_numbering": 1,
   "nav_menu": {},
   "number_sections": true,
   "sideBar": true,
   "skip_h1_title": false,
   "title_cell": "Table of Contents",
   "title_sidebar": "Contents",
   "toc_cell": false,
   "toc_position": {},
   "toc_section_display": true,
   "toc_window_display": false
  },
  "varInspector": {
   "cols": {
    "lenName": 16,
    "lenType": 16,
    "lenVar": 40
   },
   "kernels_config": {
    "python": {
     "delete_cmd_postfix": "",
     "delete_cmd_prefix": "del ",
     "library": "var_list.py",
     "varRefreshCmd": "print(var_dic_list())"
    },
    "r": {
     "delete_cmd_postfix": ") ",
     "delete_cmd_prefix": "rm(",
     "library": "var_list.r",
     "varRefreshCmd": "cat(var_dic_list()) "
    }
   },
   "types_to_exclude": [
    "module",
    "function",
    "builtin_function_or_method",
    "instance",
    "_Feature"
   ],
   "window_display": false
  }
 },
 "nbformat": 4,
 "nbformat_minor": 2
}
